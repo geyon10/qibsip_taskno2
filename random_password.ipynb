{
 "cells": [
  {
   "cell_type": "code",
   "execution_count": 1,
   "id": "b4f84657-74b1-4a43-a40d-cec7955a86c9",
   "metadata": {},
   "outputs": [
    {
     "name": "stdin",
     "output_type": "stream",
     "text": [
      "Enter password length:  10\n",
      "Enter alphabets count in password:  2\n",
      "Enter digits count in password:  2\n",
      "Enter special characters count in password:  5\n"
     ]
    },
    {
     "name": "stdout",
     "output_type": "stream",
     "text": [
      "$7#%^!YJ5h\n"
     ]
    }
   ],
   "source": [
    "import string\n",
    "import random\n",
    "\n",
    "\n",
    "## characters to generate password from\n",
    "alphabets = list(string.ascii_letters)\n",
    "digits = list(string.digits)\n",
    "special_characters = list(\"!@#$%^&*()\")\n",
    "characters = list(string.ascii_letters + string.digits + \"!@#$%^&*()\")\n",
    "\n",
    "def generate_random_password():\n",
    "\t## length of password from the user\n",
    "\tlength = int(input(\"Enter password length: \"))\n",
    "\n",
    "\t## number of character types\n",
    "\talphabets_count = int(input(\"Enter alphabets count in password: \"))\n",
    "\tdigits_count = int(input(\"Enter digits count in password: \"))\n",
    "\tspecial_characters_count = int(input(\"Enter special characters count in password: \"))\n",
    "\n",
    "\tcharacters_count = alphabets_count + digits_count + special_characters_count\n",
    "\n",
    "\t## check the total length with characters sum count\n",
    "\t## print not valid if the sum is greater than length\n",
    "\tif characters_count > length:\n",
    "\t\tprint(\"Characters total count is greater than the password length\")\n",
    "\t\treturn\n",
    "\n",
    "\n",
    "\t## initializing the password\n",
    "\tpassword = []\n",
    "\t\n",
    "\t## picking random alphabets\n",
    "\tfor i in range(alphabets_count):\n",
    "\t\tpassword.append(random.choice(alphabets))\n",
    "\n",
    "\n",
    "\t## picking random digits\n",
    "\tfor i in range(digits_count):\n",
    "\t\tpassword.append(random.choice(digits))\n",
    "\n",
    "\n",
    "\t## picking random alphabets\n",
    "\tfor i in range(special_characters_count):\n",
    "\t\tpassword.append(random.choice(special_characters))\n",
    "\n",
    "\n",
    "\t## if the total characters count is less than the password length\n",
    "\t## add random characters to make it equal to the length\n",
    "\tif characters_count < length:\n",
    "\t\trandom.shuffle(characters)\n",
    "\t\tfor i in range(length - characters_count):\n",
    "\t\t\tpassword.append(random.choice(characters))\n",
    "\n",
    "\n",
    "\t## shuffling the resultant password\n",
    "\trandom.shuffle(password)\n",
    "\n",
    "\t## converting the list to string\n",
    "\t## printing the list\n",
    "\tprint(\"\".join(password))\n",
    "\n",
    "\n",
    "\n",
    "## invoking the function\n",
    "generate_random_password()"
   ]
  },
  {
   "cell_type": "code",
   "execution_count": null,
   "id": "fb88bdeb-d3ba-4f7a-abc7-a588c47fb1e6",
   "metadata": {},
   "outputs": [],
   "source": []
  }
 ],
 "metadata": {
  "kernelspec": {
   "display_name": "Python 3 (ipykernel)",
   "language": "python",
   "name": "python3"
  },
  "language_info": {
   "codemirror_mode": {
    "name": "ipython",
    "version": 3
   },
   "file_extension": ".py",
   "mimetype": "text/x-python",
   "name": "python",
   "nbconvert_exporter": "python",
   "pygments_lexer": "ipython3",
   "version": "3.12.7"
  }
 },
 "nbformat": 4,
 "nbformat_minor": 5
}
